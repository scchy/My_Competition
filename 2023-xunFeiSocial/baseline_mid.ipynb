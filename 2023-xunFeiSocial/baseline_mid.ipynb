{
 "cells": [
  {
   "cell_type": "code",
   "execution_count": 1,
   "metadata": {},
   "outputs": [],
   "source": [
    "from typing import List, Tuple, Union\n",
    "from datetime import datetime, timedelta\n",
    "import math\n",
    "import os\n",
    "import torch\n",
    "from torch import nn\n",
    "from torch.nn import functional as F\n",
    "from torch_geometric.data import Data, InMemoryDataset\n",
    "from torch_geometric.loader import DataLoader\n",
    "from torch_geometric.nn import GATv2Conv, GCNConv, GATConv, SAGEConv\n",
    "import pandas as pd\n",
    "import numpy as np\n",
    "from sklearn.preprocessing import LabelEncoder\n",
    "from sklearn.metrics import accuracy_score\n",
    "from tqdm import tqdm\n",
    "from argparse import Namespace\n",
    "import gc\n",
    "import wandb\n"
   ]
  },
  {
   "cell_type": "markdown",
   "metadata": {},
   "source": [
    "# loading Data"
   ]
  },
  {
   "cell_type": "code",
   "execution_count": 2,
   "metadata": {},
   "outputs": [],
   "source": [
    "\n",
    "df = pd.read_csv('./data/train.csv')\n",
    "test_df = pd.read_csv('./data/test.csv')\n",
    "edges = pd.read_csv('./data/edges.csv')\n",
    "# 查看test 是否全没有出现\n",
    "test_no_see_count = len(set(test_df['id'].unique()) - set(df['id'].unique()))\n",
    "test_no_see_count == test_df['id'].nunique()\n",
    "\n",
    "# 查看test是否在 edge中出现\n",
    "no_edge_count = len(\n",
    "    set(edges['id_1'].tolist() + edges['id_2'].tolist()) - \n",
    "    set(test_df['id'].unique()) - \n",
    "    set(df['id'].unique())\n",
    ")\n",
    "\n",
    "\n",
    "total_node = sorted(set(edges['id_1'].tolist() + edges['id_2'].tolist()))\n",
    "lb_ecoder = LabelEncoder()\n",
    "lb_ecoder.fit(np.array(total_node))\n",
    "edges['id_1_idx'] = lb_ecoder.transform(edges['id_1'])\n",
    "edges['id_2_idx'] = lb_ecoder.transform(edges['id_2'])\n",
    "\n",
    "\n",
    "label_df = pd.DataFrame(np.array(total_node), columns=['id'])\n",
    "label_df['id_idx'] = lb_ecoder.transform(label_df['id'])\n",
    "label_df = label_df.merge(df, how='left', on='id')\n",
    "label_df['target'] = label_df['target'].fillna(-1)\n"
   ]
  },
  {
   "cell_type": "markdown",
   "metadata": {},
   "source": [
    "# dataLoader"
   ]
  },
  {
   "cell_type": "code",
   "execution_count": 3,
   "metadata": {},
   "outputs": [],
   "source": [
    "\n",
    "class graphData(InMemoryDataset):\n",
    "    def __init__(self, root, label_df_in, data_type='train', random_sample_ratio=0.3, random_graph_count=1024):\n",
    "        self.idx = {\n",
    "            'train': 0, 'val': 1, 'test': 2\n",
    "        }[data_type]\n",
    "        label_df_in = label_df_in.copy(deep=True).sort_values(by='id_idx', ignore_index=True)\n",
    "        self.mask = torch.tensor(label_df_in['target'] != -1)\n",
    "        self.node_features = torch.LongTensor(label_df_in['id_idx'].values)\n",
    "        self.node_label = torch.tensor(label_df_in['target'].values).float()\n",
    "        self.node_info = label_df_in['id'].values\n",
    "        self.random_sample_ratio = random_sample_ratio\n",
    "        self.random_graph_count = random_graph_count\n",
    "        super().__init__(root)\n",
    "        self.data, self.slices = torch.load(self.processed_paths[self.idx])\n",
    "\n",
    "\n",
    "    @property\n",
    "    def processed_file_names(self):\n",
    "        return ['edge_processed__tr.dataset', 'edge_processed__val.dataset', 'edge_processed__test.dataset']\n",
    "\n",
    "\n",
    "    def process(self):\n",
    "        data_list = []\n",
    "        if self.idx == 2:\n",
    "            edges_smaple = edges.reset_index(drop=True).copy(deep=True)\n",
    "            data = Data(\n",
    "                x=self.node_features, \n",
    "                edge_index=torch.LongTensor(edges_smaple[['id_1_idx', 'id_2_idx']].values.T),\n",
    "                y=self.node_label,\n",
    "                mask=self.mask,\n",
    "                x_info=self.node_info\n",
    "            )\n",
    "            data_list.append(data)\n",
    "            data, slices = self.collate(data_list)\n",
    "            torch.save((data, slices), self.processed_paths[self.idx])  \n",
    "            return None\n",
    "        \n",
    "        # random node sampling\n",
    "        for _ in tqdm(range(self.random_graph_count), total=self.random_graph_count):\n",
    "            sample_nodes = np.random.choice(self.node_info, size=int(0.01 * len(self.node_info)), replace=False)\n",
    "            neighbor1 = edges.loc[edges.id_1.isin(sample_nodes), 'id_2'].unique().tolist()\n",
    "            tt_nodes = list(set(list(sample_nodes)) | set(neighbor1))\n",
    "            edges_smaple = edges[edges.id_1.isin(tt_nodes)].reset_index(drop=True)\n",
    "            data = Data(\n",
    "                x=self.node_features, \n",
    "                edge_index=torch.LongTensor(edges_smaple[['id_1_idx', 'id_2_idx']].values.T),\n",
    "                y=self.node_label,\n",
    "                mask=self.mask,\n",
    "                x_info=self.node_info\n",
    "            )\n",
    "            data_list.append(data)\n",
    "\n",
    "        data, slices = self.collate(data_list)\n",
    "        torch.save((data, slices), self.processed_paths[self.idx])   \n",
    "        return None\n",
    "        "
   ]
  },
  {
   "cell_type": "code",
   "execution_count": 4,
   "metadata": {},
   "outputs": [
    {
     "name": "stderr",
     "output_type": "stream",
     "text": [
      "Processing...\n",
      "100%|██████████| 128/128 [00:01<00:00, 65.93it/s]\n",
      "Done!\n",
      "Processing...\n",
      "100%|██████████| 64/64 [00:00<00:00, 67.72it/s]\n",
      "Done!\n",
      "Processing...\n",
      "Done!\n"
     ]
    }
   ],
   "source": [
    "# dataloader\n",
    "tr_dataset = graphData('./data/', label_df, data_type='train', random_sample_ratio=0.1, random_graph_count=128)\n",
    "val_dataset = graphData('./data/', label_df, data_type='val', random_sample_ratio=0.1, random_graph_count=64)\n",
    "te_dataset = graphData('./data/', label_df, data_type='test', random_sample_ratio=0.1, random_graph_count=64)"
   ]
  },
  {
   "cell_type": "markdown",
   "metadata": {},
   "source": [
    "# Model "
   ]
  },
  {
   "cell_type": "code",
   "execution_count": 32,
   "metadata": {},
   "outputs": [],
   "source": [
    "\n",
    "class GAT(torch.nn.Module):\n",
    "    def __init__(self, num_emb, emb_dim=128, heads=8, hidden_c=16):\n",
    "        super().__init__()\n",
    "        self.node_emb = nn.Embedding(num_embeddings=num_emb, embedding_dim=emb_dim)\n",
    "        \n",
    "        self.conv1 = GATConv(emb_dim, hidden_c, heads, dropout=0.5)\n",
    "        self.conv2 = GATConv(hidden_c * heads, hidden_c, heads, dropout=0.5)\n",
    "        # self.conv3 = GATConv(hidden_c * heads, hidden_c, heads, dropout=0.4)\n",
    "        self.conv4 = GATConv(hidden_c * heads, 2, heads=1,\n",
    "                             concat=False, dropout=0.5)\n",
    "\n",
    "    def forward(self, data):\n",
    "        x, edge_index, batch = data.x, data.edge_index, data.batch\n",
    "        # [b, n, emb_dim]\n",
    "        x = self.node_emb(x)\n",
    "        x = x.squeeze(1) \n",
    "        \n",
    "        x = F.dropout(x, p=0.3, training=self.training)\n",
    "        x = F.relu(self.conv1(x, edge_index))\n",
    "        \n",
    "        x = F.dropout(x, p=0.3, training=self.training)\n",
    "        x = F.relu(self.conv2(x, edge_index))\n",
    "\n",
    "        # x = F.dropout(x, p=0.3, training=self.training)\n",
    "        # x = F.relu(self.conv3(x, edge_index))\n",
    "\n",
    "        x = F.dropout(x, p=0.3, training=self.training)\n",
    "        x = self.conv4(x, edge_index)\n",
    "        return x\n",
    "\n"
   ]
  },
  {
   "cell_type": "markdown",
   "metadata": {},
   "source": [
    "# Triaining "
   ]
  },
  {
   "cell_type": "code",
   "execution_count": 66,
   "metadata": {},
   "outputs": [],
   "source": [
    "\n",
    "def trainer(train_loader, valid_loader, model, config):\n",
    "    device = config.device\n",
    "    model.to('cpu')\n",
    "    model.to(device)\n",
    "    loss_fn = nn.CrossEntropyLoss()\n",
    "    optimizer = torch.optim.Adam(model.parameters(), lr=config.lr) \n",
    "    save_path = config.save_path\n",
    "\n",
    "    if not os.path.isdir('./models'):\n",
    "        os.mkdir('./models')\n",
    "\n",
    "    wandb.login()\n",
    "    cfg_dict = config.__dict__\n",
    "    wandb.init(\n",
    "        project=\"XUNFEI-social-GAT\",\n",
    "        config=cfg_dict\n",
    "    )\n",
    "\n",
    "    n_epochs, best_loss, step, early_stop_count = config.n_epochs, math.inf, 0, 0\n",
    "    ep_val_loss_collect = []\n",
    "    for epoch in range(n_epochs):\n",
    "        gc.collect()\n",
    "        torch.cuda.empty_cache()\n",
    "        model.train()\n",
    "        loss_record = []\n",
    "        train_pbar = tqdm(train_loader, position=0, leave=True)\n",
    "        train_pbar.set_description(f'Epoch [{epoch+1:02d}/{n_epochs:02d} ]')\n",
    "        ep_right_count = 0\n",
    "        tt_count = 0\n",
    "        t_cnt = 0\n",
    "        tp_cnt = 0\n",
    "        for data in train_pbar:\n",
    "            optimizer.zero_grad() \n",
    "            data = data.to(device)\n",
    "            label = data.y.to(device)\n",
    "            pred = model(data)\n",
    "            mask = data.mask\n",
    "            loss = loss_fn(pred[mask], label[mask].long())\n",
    "            tt_count += label[mask].size(0)\n",
    "            ep_right_count += torch.sum(pred[mask].argmax(dim=1) == label[mask]).cpu().detach().item()\n",
    "            loss.backward()\n",
    "            optimizer.step()\n",
    "            \n",
    "            step += 1\n",
    "            l_ = loss.detach().item()\n",
    "            loss_record.append(l_)\n",
    "            t_cnt += torch.sum(1.0 * (pred[mask].argmax(dim=1) == 1)).cpu().detach().item()\n",
    "            tp_cnt += torch.sum((pred[mask].argmax(dim=1) == 1) & (label[mask] == 1)).cpu().detach().item()\n",
    "            p_ = tp_cnt / (t_cnt + 1e-5) * 100\n",
    "            train_pbar.set_postfix({'loss': f'{l_:.5f}', 'acc': '{:.5f}'.format(ep_right_count/tt_count), 'percision': '{:.2f}%'.format(p_) })\n",
    "        \n",
    "        mean_train_loss = sum(loss_record)/len(loss_record)\n",
    "        mean_train_acc = ep_right_count/tt_count * 100\n",
    "        tr_percision = tp_cnt / (t_cnt + 1e-5) * 100\n",
    "        model.eval()\n",
    "        loss_record = []\n",
    "        ep_right_count = 0\n",
    "        tt_count = 0\n",
    "        t_cnt = 0\n",
    "        tp_cnt = 0\n",
    "        for data in valid_loader:\n",
    "            data = data.to(device)\n",
    "            label = data.y.to(device)\n",
    "            with torch.no_grad():\n",
    "                pred = model(data)\n",
    "                mask = data.mask\n",
    "                loss = loss_fn(pred[mask], label[mask].long())\n",
    "                tt_count += label[mask].size(0)\n",
    "                ep_right_count += torch.sum(pred[mask].argmax(dim=1) == label[mask]).cpu().detach().item()\n",
    "                \n",
    "                t_cnt += torch.sum((1* (pred[mask].argmax(dim=1) == 1)).float()).cpu().detach().item()\n",
    "                tp_cnt += torch.sum((pred[mask].argmax(dim=1) == 1) & (label[mask] == 1)).cpu().detach().item()\n",
    "\n",
    "            loss_record.append(loss.item())\n",
    "        \n",
    "        val_percision = tp_cnt / (t_cnt + 1e-5) * 100\n",
    "        mean_valid_loss = sum(loss_record)/len(loss_record)\n",
    "        mean_valid_acc = ep_right_count/tt_count * 100\n",
    "        ep_val_loss_collect.append(mean_valid_loss)\n",
    "        print(f\"\"\"Epoch [{epoch+1:02d}/{n_epochs:02d}]: \n",
    "                    Train loss: {mean_train_loss:.4f} Acc: {mean_train_acc:.2f}% Percision: {tr_percision:.2f}%\n",
    "                    Valid loss: {mean_valid_loss:.4f} Acc: {mean_valid_acc:.2f}% Percision: {val_percision:.2f}%\n",
    "        \"\"\")\n",
    "        log_dict = {\n",
    "            \"TrainLoss\": mean_train_loss,\n",
    "            'TrainAcc': mean_train_acc,\n",
    "            \"TrainPercision\": tr_percision,\n",
    "            'ValLoss': mean_valid_loss,\n",
    "            \"ValAcc\": mean_valid_acc,\n",
    "            \"ValPercision\": val_percision,\n",
    "            \"bestLoss\": best_loss\n",
    "        }\n",
    "        wandb.log(log_dict)\n",
    "        if (epoch+1) % 10 == 0:\n",
    "            dt_hhmm = datetime.now().strftime('%Y%m%d_%H%M')\n",
    "            save_path_f = save_path.replace('.ckpt', f'_10ep_{dt_hhmm}.ckpt')\n",
    "            torch.save(model.state_dict(), save_path_f) \n",
    "        \n",
    "        if mean_valid_loss < best_loss:\n",
    "            best_loss = mean_valid_loss\n",
    "            torch.save(model.state_dict(), save_path) \n",
    "            print('Saving model with loss {:.3f}...'.format(best_loss))\n",
    "            early_stop_count = 0\n",
    "        else: \n",
    "            early_stop_count += 1\n",
    "\n",
    "\n",
    "        if early_stop_count >= config.early_stop:\n",
    "            print('\\nModel is not improving, so we halt the training session.')\n",
    "            break\n",
    "    \n",
    "    wandb.finish()\n",
    "    return ep_val_loss_collect"
   ]
  },
  {
   "cell_type": "code",
   "execution_count": 68,
   "metadata": {},
   "outputs": [],
   "source": [
    "gc.collect()\n",
    "torch.cuda.empty_cache()"
   ]
  },
  {
   "cell_type": "code",
   "execution_count": 69,
   "metadata": {},
   "outputs": [],
   "source": [
    "config = Namespace(\n",
    "    device='cuda',\n",
    "    n_epochs=40,\n",
    "    save_path='./models/gnn-mid.ckpt',\n",
    "    lr=5e-4,\n",
    "    batch_size=3,\n",
    "    early_stop=100,\n",
    "    \n",
    "    emb_dim=256,\n",
    "    heads=8,\n",
    "    hidden_c=32\n",
    ")\n",
    "train_loader = DataLoader(tr_dataset, batch_size=config.batch_size, shuffle=True)\n",
    "valid_loader = DataLoader(val_dataset, batch_size=config.batch_size, shuffle=False)\n"
   ]
  },
  {
   "cell_type": "code",
   "execution_count": 70,
   "metadata": {},
   "outputs": [
    {
     "name": "stderr",
     "output_type": "stream",
     "text": [
      "\u001b[34m\u001b[1mwandb\u001b[0m: \u001b[33mWARNING\u001b[0m Calling wandb.login() after wandb.init() has no effect.\n"
     ]
    },
    {
     "data": {
      "text/html": [
       "Finishing last run (ID:50kkywfz) before initializing another..."
      ],
      "text/plain": [
       "<IPython.core.display.HTML object>"
      ]
     },
     "metadata": {},
     "output_type": "display_data"
    },
    {
     "data": {
      "text/html": [
       "Waiting for W&B process to finish... <strong style=\"color:green\">(success).</strong>"
      ],
      "text/plain": [
       "<IPython.core.display.HTML object>"
      ]
     },
     "metadata": {},
     "output_type": "display_data"
    },
    {
     "name": "stderr",
     "output_type": "stream",
     "text": [
      "wandb: WARNING Source type is set to 'repo' but some required information is missing from the environment. A job will not be created from this run. See https://docs.wandb.ai/guides/launch/create-job\n"
     ]
    },
    {
     "data": {
      "application/vnd.jupyter.widget-view+json": {
       "model_id": "3ec47ca6fad84d23a418880e3ac8c9f0",
       "version_major": 2,
       "version_minor": 0
      },
      "text/plain": [
       "VBox(children=(Label(value='0.003 MB of 0.003 MB uploaded (0.000 MB deduped)\\r'), FloatProgress(value=1.0, max…"
      ]
     },
     "metadata": {},
     "output_type": "display_data"
    },
    {
     "data": {
      "text/html": [
       "<style>\n",
       "    table.wandb td:nth-child(1) { padding: 0 10px; text-align: left ; width: auto;} td:nth-child(2) {text-align: left ; width: 100%}\n",
       "    .wandb-row { display: flex; flex-direction: row; flex-wrap: wrap; justify-content: flex-start; width: 100% }\n",
       "    .wandb-col { display: flex; flex-direction: column; flex-basis: 100%; flex: 1; padding: 10px; }\n",
       "    </style>\n",
       "<div class=\"wandb-row\"><div class=\"wandb-col\"><h3>Run history:</h3><br/><table class=\"wandb\"><tr><td>TrainAcc</td><td>▁▅▆▇█</td></tr><tr><td>TrainLoss</td><td>█▄▂▁▁</td></tr><tr><td>TrainPercision</td><td>▁▃▄▆█</td></tr><tr><td>ValAcc</td><td>█▂▁▁▁</td></tr><tr><td>ValLoss</td><td>█▆▁▂▁</td></tr><tr><td>ValPercision</td><td>▁▁███</td></tr><tr><td>bestLoss</td><td> █▆▁▁</td></tr></table><br/></div><div class=\"wandb-col\"><h3>Run summary:</h3><br/><table class=\"wandb\"><tr><td>TrainAcc</td><td>72.63084</td></tr><tr><td>TrainLoss</td><td>0.6076</td></tr><tr><td>TrainPercision</td><td>1886.19194</td></tr><tr><td>ValAcc</td><td>73.88087</td></tr><tr><td>ValLoss</td><td>0.57353</td></tr><tr><td>ValPercision</td><td>13097599999999.998</td></tr><tr><td>bestLoss</td><td>0.57467</td></tr></table><br/></div></div>"
      ],
      "text/plain": [
       "<IPython.core.display.HTML object>"
      ]
     },
     "metadata": {},
     "output_type": "display_data"
    },
    {
     "data": {
      "text/html": [
       " View run <strong style=\"color:#cdcd00\">revived-plasma-28</strong> at: <a href='https://wandb.ai/296294812/XUNFEI-social-GAT/runs/50kkywfz' target=\"_blank\">https://wandb.ai/296294812/XUNFEI-social-GAT/runs/50kkywfz</a><br/>Synced 6 W&B file(s), 0 media file(s), 0 artifact file(s) and 0 other file(s)"
      ],
      "text/plain": [
       "<IPython.core.display.HTML object>"
      ]
     },
     "metadata": {},
     "output_type": "display_data"
    },
    {
     "data": {
      "text/html": [
       "Find logs at: <code>./wandb/run-20230920_030809-50kkywfz/logs</code>"
      ],
      "text/plain": [
       "<IPython.core.display.HTML object>"
      ]
     },
     "metadata": {},
     "output_type": "display_data"
    },
    {
     "data": {
      "text/html": [
       "Successfully finished last run (ID:50kkywfz). Initializing new run:<br/>"
      ],
      "text/plain": [
       "<IPython.core.display.HTML object>"
      ]
     },
     "metadata": {},
     "output_type": "display_data"
    },
    {
     "data": {
      "application/vnd.jupyter.widget-view+json": {
       "model_id": "b7e620e7f48e446d85556135e9b39be2",
       "version_major": 2,
       "version_minor": 0
      },
      "text/plain": [
       "VBox(children=(Label(value='Waiting for wandb.init()...\\r'), FloatProgress(value=0.016670164583350317, max=1.0…"
      ]
     },
     "metadata": {},
     "output_type": "display_data"
    },
    {
     "data": {
      "text/html": [
       "Tracking run with wandb version 0.15.8"
      ],
      "text/plain": [
       "<IPython.core.display.HTML object>"
      ]
     },
     "metadata": {},
     "output_type": "display_data"
    },
    {
     "data": {
      "text/html": [
       "Run data is saved locally in <code>/home/scc/sccWork/myGitHub/My_Competition/2023-xunFeiSocial/wandb/run-20230920_031538-bpqnfseu</code>"
      ],
      "text/plain": [
       "<IPython.core.display.HTML object>"
      ]
     },
     "metadata": {},
     "output_type": "display_data"
    },
    {
     "data": {
      "text/html": [
       "Syncing run <strong><a href='https://wandb.ai/296294812/XUNFEI-social-GAT/runs/bpqnfseu' target=\"_blank\">good-snow-29</a></strong> to <a href='https://wandb.ai/296294812/XUNFEI-social-GAT' target=\"_blank\">Weights & Biases</a> (<a href='https://wandb.me/run' target=\"_blank\">docs</a>)<br/>"
      ],
      "text/plain": [
       "<IPython.core.display.HTML object>"
      ]
     },
     "metadata": {},
     "output_type": "display_data"
    },
    {
     "data": {
      "text/html": [
       " View project at <a href='https://wandb.ai/296294812/XUNFEI-social-GAT' target=\"_blank\">https://wandb.ai/296294812/XUNFEI-social-GAT</a>"
      ],
      "text/plain": [
       "<IPython.core.display.HTML object>"
      ]
     },
     "metadata": {},
     "output_type": "display_data"
    },
    {
     "data": {
      "text/html": [
       " View run at <a href='https://wandb.ai/296294812/XUNFEI-social-GAT/runs/bpqnfseu' target=\"_blank\">https://wandb.ai/296294812/XUNFEI-social-GAT/runs/bpqnfseu</a>"
      ],
      "text/plain": [
       "<IPython.core.display.HTML object>"
      ]
     },
     "metadata": {},
     "output_type": "display_data"
    },
    {
     "name": "stderr",
     "output_type": "stream",
     "text": [
      "Epoch [01/40 ]: 100%|██████████| 43/43 [00:02<00:00, 15.84it/s, loss=0.72190, acc=0.70174, percision=30.15%]\n"
     ]
    },
    {
     "name": "stdout",
     "output_type": "stream",
     "text": [
      "Epoch [01/40]: \n",
      "                    Train loss: 0.8392 Acc: 70.17% Percision: 30.15%\n",
      "                    Valid loss: 0.5904 Acc: 73.83% Percision: 41.47%\n",
      "        \n",
      "Saving model with loss 0.590...\n"
     ]
    },
    {
     "name": "stderr",
     "output_type": "stream",
     "text": [
      "Epoch [02/40 ]: 100%|██████████| 43/43 [00:02<00:00, 15.40it/s, loss=0.62596, acc=0.71455, percision=31.94%]\n"
     ]
    },
    {
     "name": "stdout",
     "output_type": "stream",
     "text": [
      "Epoch [02/40]: \n",
      "                    Train loss: 0.6661 Acc: 71.45% Percision: 31.94%\n",
      "                    Valid loss: 0.5905 Acc: 73.87% Percision: 23.24%\n",
      "        \n"
     ]
    },
    {
     "name": "stderr",
     "output_type": "stream",
     "text": [
      "Epoch [03/40 ]: 100%|██████████| 43/43 [00:02<00:00, 15.38it/s, loss=0.60583, acc=0.72327, percision=32.48%]\n"
     ]
    },
    {
     "name": "stdout",
     "output_type": "stream",
     "text": [
      "Epoch [03/40]: \n",
      "                    Train loss: 0.6163 Acc: 72.33% Percision: 32.48%\n",
      "                    Valid loss: 0.5791 Acc: 73.88% Percision: 0.00%\n",
      "        \n",
      "Saving model with loss 0.579...\n"
     ]
    },
    {
     "name": "stderr",
     "output_type": "stream",
     "text": [
      "Epoch [04/40 ]: 100%|██████████| 43/43 [00:02<00:00, 15.69it/s, loss=0.59724, acc=0.72988, percision=33.22%]\n"
     ]
    },
    {
     "name": "stdout",
     "output_type": "stream",
     "text": [
      "Epoch [04/40]: \n",
      "                    Train loss: 0.5980 Acc: 72.99% Percision: 33.22%\n",
      "                    Valid loss: 0.5807 Acc: 73.88% Percision: 0.00%\n",
      "        \n"
     ]
    },
    {
     "name": "stderr",
     "output_type": "stream",
     "text": [
      "Epoch [05/40 ]: 100%|██████████| 43/43 [00:02<00:00, 15.57it/s, loss=0.58305, acc=0.73396, percision=34.46%]\n"
     ]
    },
    {
     "name": "stdout",
     "output_type": "stream",
     "text": [
      "Epoch [05/40]: \n",
      "                    Train loss: 0.5871 Acc: 73.40% Percision: 34.46%\n",
      "                    Valid loss: 0.5690 Acc: 73.88% Percision: 0.00%\n",
      "        \n",
      "Saving model with loss 0.569...\n"
     ]
    },
    {
     "name": "stderr",
     "output_type": "stream",
     "text": [
      "Epoch [06/40 ]: 100%|██████████| 43/43 [00:02<00:00, 15.19it/s, loss=0.58266, acc=0.73571, percision=35.27%]\n"
     ]
    },
    {
     "name": "stdout",
     "output_type": "stream",
     "text": [
      "Epoch [06/40]: \n",
      "                    Train loss: 0.5800 Acc: 73.57% Percision: 35.27%\n",
      "                    Valid loss: 0.5629 Acc: 73.88% Percision: 0.00%\n",
      "        \n",
      "Saving model with loss 0.563...\n"
     ]
    },
    {
     "name": "stderr",
     "output_type": "stream",
     "text": [
      "Epoch [07/40 ]: 100%|██████████| 43/43 [00:02<00:00, 15.52it/s, loss=0.57308, acc=0.73744, percision=43.51%]\n"
     ]
    },
    {
     "name": "stdout",
     "output_type": "stream",
     "text": [
      "Epoch [07/40]: \n",
      "                    Train loss: 0.5735 Acc: 73.74% Percision: 43.51%\n",
      "                    Valid loss: 0.5640 Acc: 73.88% Percision: 88.24%\n",
      "        \n"
     ]
    },
    {
     "name": "stderr",
     "output_type": "stream",
     "text": [
      "Epoch [08/40 ]: 100%|██████████| 43/43 [00:02<00:00, 15.32it/s, loss=0.56667, acc=0.73880, percision=49.98%]\n"
     ]
    },
    {
     "name": "stdout",
     "output_type": "stream",
     "text": [
      "Epoch [08/40]: \n",
      "                    Train loss: 0.5687 Acc: 73.88% Percision: 49.98%\n",
      "                    Valid loss: 0.5552 Acc: 73.88% Percision: 0.00%\n",
      "        \n",
      "Saving model with loss 0.555...\n"
     ]
    },
    {
     "name": "stderr",
     "output_type": "stream",
     "text": [
      "Epoch [09/40 ]: 100%|██████████| 43/43 [00:02<00:00, 15.57it/s, loss=0.56304, acc=0.73975, percision=53.89%]\n"
     ]
    },
    {
     "name": "stdout",
     "output_type": "stream",
     "text": [
      "Epoch [09/40]: \n",
      "                    Train loss: 0.5633 Acc: 73.97% Percision: 53.89%\n",
      "                    Valid loss: 0.5461 Acc: 73.88% Percision: 0.00%\n",
      "        \n",
      "Saving model with loss 0.546...\n"
     ]
    },
    {
     "name": "stderr",
     "output_type": "stream",
     "text": [
      "Epoch [10/40 ]: 100%|██████████| 43/43 [00:02<00:00, 15.67it/s, loss=0.56208, acc=0.74034, percision=55.83%]\n"
     ]
    },
    {
     "name": "stdout",
     "output_type": "stream",
     "text": [
      "Epoch [10/40]: \n",
      "                    Train loss: 0.5588 Acc: 74.03% Percision: 55.83%\n",
      "                    Valid loss: 0.5422 Acc: 73.88% Percision: 0.00%\n",
      "        \n",
      "Saving model with loss 0.542...\n"
     ]
    },
    {
     "name": "stderr",
     "output_type": "stream",
     "text": [
      "Epoch [11/40 ]: 100%|██████████| 43/43 [00:02<00:00, 15.35it/s, loss=0.55013, acc=0.74079, percision=56.90%]\n"
     ]
    },
    {
     "name": "stdout",
     "output_type": "stream",
     "text": [
      "Epoch [11/40]: \n",
      "                    Train loss: 0.5545 Acc: 74.08% Percision: 56.90%\n",
      "                    Valid loss: 0.5352 Acc: 73.88% Percision: 100.00%\n",
      "        \n",
      "Saving model with loss 0.535...\n"
     ]
    },
    {
     "name": "stderr",
     "output_type": "stream",
     "text": [
      "Epoch [12/40 ]: 100%|██████████| 43/43 [00:02<00:00, 15.53it/s, loss=0.54849, acc=0.74200, percision=59.18%]\n"
     ]
    },
    {
     "name": "stdout",
     "output_type": "stream",
     "text": [
      "Epoch [12/40]: \n",
      "                    Train loss: 0.5490 Acc: 74.20% Percision: 59.18%\n",
      "                    Valid loss: 0.5281 Acc: 74.21% Percision: 84.02%\n",
      "        \n",
      "Saving model with loss 0.528...\n"
     ]
    },
    {
     "name": "stderr",
     "output_type": "stream",
     "text": [
      "Epoch [13/40 ]: 100%|██████████| 43/43 [00:02<00:00, 15.53it/s, loss=0.54523, acc=0.74290, percision=59.71%]\n"
     ]
    },
    {
     "name": "stdout",
     "output_type": "stream",
     "text": [
      "Epoch [13/40]: \n",
      "                    Train loss: 0.5455 Acc: 74.29% Percision: 59.71%\n",
      "                    Valid loss: 0.5217 Acc: 74.50% Percision: 78.58%\n",
      "        \n",
      "Saving model with loss 0.522...\n"
     ]
    },
    {
     "name": "stderr",
     "output_type": "stream",
     "text": [
      "Epoch [14/40 ]: 100%|██████████| 43/43 [00:02<00:00, 15.49it/s, loss=0.53389, acc=0.74455, percision=60.31%]\n"
     ]
    },
    {
     "name": "stdout",
     "output_type": "stream",
     "text": [
      "Epoch [14/40]: \n",
      "                    Train loss: 0.5399 Acc: 74.45% Percision: 60.31%\n",
      "                    Valid loss: 0.5129 Acc: 74.61% Percision: 80.04%\n",
      "        \n",
      "Saving model with loss 0.513...\n"
     ]
    },
    {
     "name": "stderr",
     "output_type": "stream",
     "text": [
      "Epoch [15/40 ]: 100%|██████████| 43/43 [00:02<00:00, 15.80it/s, loss=0.52892, acc=0.74637, percision=61.46%]\n"
     ]
    },
    {
     "name": "stdout",
     "output_type": "stream",
     "text": [
      "Epoch [15/40]: \n",
      "                    Train loss: 0.5335 Acc: 74.64% Percision: 61.46%\n",
      "                    Valid loss: 0.5004 Acc: 74.99% Percision: 80.66%\n",
      "        \n",
      "Saving model with loss 0.500...\n"
     ]
    },
    {
     "name": "stderr",
     "output_type": "stream",
     "text": [
      "Epoch [16/40 ]: 100%|██████████| 43/43 [00:02<00:00, 15.22it/s, loss=0.51544, acc=0.74953, percision=62.80%]\n"
     ]
    },
    {
     "name": "stdout",
     "output_type": "stream",
     "text": [
      "Epoch [16/40]: \n",
      "                    Train loss: 0.5263 Acc: 74.95% Percision: 62.80%\n",
      "                    Valid loss: 0.4876 Acc: 74.92% Percision: 83.17%\n",
      "        \n",
      "Saving model with loss 0.488...\n"
     ]
    },
    {
     "name": "stderr",
     "output_type": "stream",
     "text": [
      "Epoch [17/40 ]: 100%|██████████| 43/43 [00:02<00:00, 15.81it/s, loss=0.51120, acc=0.75408, percision=64.21%]\n"
     ]
    },
    {
     "name": "stdout",
     "output_type": "stream",
     "text": [
      "Epoch [17/40]: \n",
      "                    Train loss: 0.5170 Acc: 75.41% Percision: 64.21%\n",
      "                    Valid loss: 0.4655 Acc: 75.92% Percision: 85.06%\n",
      "        \n",
      "Saving model with loss 0.465...\n"
     ]
    },
    {
     "name": "stderr",
     "output_type": "stream",
     "text": [
      "Epoch [18/40 ]: 100%|██████████| 43/43 [00:02<00:00, 15.84it/s, loss=0.49908, acc=0.76025, percision=67.03%]\n"
     ]
    },
    {
     "name": "stdout",
     "output_type": "stream",
     "text": [
      "Epoch [18/40]: \n",
      "                    Train loss: 0.5048 Acc: 76.03% Percision: 67.03%\n",
      "                    Valid loss: 0.4380 Acc: 77.71% Percision: 87.72%\n",
      "        \n",
      "Saving model with loss 0.438...\n"
     ]
    },
    {
     "name": "stderr",
     "output_type": "stream",
     "text": [
      "Epoch [19/40 ]: 100%|██████████| 43/43 [00:02<00:00, 15.54it/s, loss=0.48073, acc=0.76877, percision=69.37%]\n"
     ]
    },
    {
     "name": "stdout",
     "output_type": "stream",
     "text": [
      "Epoch [19/40]: \n",
      "                    Train loss: 0.4901 Acc: 76.88% Percision: 69.37%\n",
      "                    Valid loss: 0.4061 Acc: 80.08% Percision: 91.18%\n",
      "        \n",
      "Saving model with loss 0.406...\n"
     ]
    },
    {
     "name": "stderr",
     "output_type": "stream",
     "text": [
      "Epoch [20/40 ]: 100%|██████████| 43/43 [00:02<00:00, 15.72it/s, loss=0.46044, acc=0.78111, percision=73.15%]\n"
     ]
    },
    {
     "name": "stdout",
     "output_type": "stream",
     "text": [
      "Epoch [20/40]: \n",
      "                    Train loss: 0.4693 Acc: 78.11% Percision: 73.15%\n",
      "                    Valid loss: 0.3573 Acc: 84.55% Percision: 91.99%\n",
      "        \n",
      "Saving model with loss 0.357...\n"
     ]
    },
    {
     "name": "stderr",
     "output_type": "stream",
     "text": [
      "Epoch [21/40 ]: 100%|██████████| 43/43 [00:02<00:00, 15.41it/s, loss=0.43516, acc=0.79498, percision=76.72%]\n"
     ]
    },
    {
     "name": "stdout",
     "output_type": "stream",
     "text": [
      "Epoch [21/40]: \n",
      "                    Train loss: 0.4455 Acc: 79.50% Percision: 76.72%\n",
      "                    Valid loss: 0.3061 Acc: 88.78% Percision: 93.64%\n",
      "        \n",
      "Saving model with loss 0.306...\n"
     ]
    },
    {
     "name": "stderr",
     "output_type": "stream",
     "text": [
      "Epoch [22/40 ]: 100%|██████████| 43/43 [00:02<00:00, 15.25it/s, loss=0.41181, acc=0.80781, percision=80.23%]\n"
     ]
    },
    {
     "name": "stdout",
     "output_type": "stream",
     "text": [
      "Epoch [22/40]: \n",
      "                    Train loss: 0.4203 Acc: 80.78% Percision: 80.23%\n",
      "                    Valid loss: 0.2662 Acc: 91.88% Percision: 93.96%\n",
      "        \n",
      "Saving model with loss 0.266...\n"
     ]
    },
    {
     "name": "stderr",
     "output_type": "stream",
     "text": [
      "Epoch [23/40 ]: 100%|██████████| 43/43 [00:02<00:00, 15.83it/s, loss=0.39094, acc=0.81817, percision=82.85%]\n"
     ]
    },
    {
     "name": "stdout",
     "output_type": "stream",
     "text": [
      "Epoch [23/40]: \n",
      "                    Train loss: 0.3985 Acc: 81.82% Percision: 82.85%\n",
      "                    Valid loss: 0.2216 Acc: 93.85% Percision: 94.92%\n",
      "        \n",
      "Saving model with loss 0.222...\n"
     ]
    },
    {
     "name": "stderr",
     "output_type": "stream",
     "text": [
      "Epoch [24/40 ]: 100%|██████████| 43/43 [00:02<00:00, 15.45it/s, loss=0.37722, acc=0.82832, percision=85.74%]\n"
     ]
    },
    {
     "name": "stdout",
     "output_type": "stream",
     "text": [
      "Epoch [24/40]: \n",
      "                    Train loss: 0.3777 Acc: 82.83% Percision: 85.74%\n",
      "                    Valid loss: 0.1904 Acc: 95.46% Percision: 94.20%\n",
      "        \n",
      "Saving model with loss 0.190...\n"
     ]
    },
    {
     "name": "stderr",
     "output_type": "stream",
     "text": [
      "Epoch [25/40 ]: 100%|██████████| 43/43 [00:02<00:00, 15.81it/s, loss=0.36565, acc=0.83468, percision=87.03%]\n"
     ]
    },
    {
     "name": "stdout",
     "output_type": "stream",
     "text": [
      "Epoch [25/40]: \n",
      "                    Train loss: 0.3612 Acc: 83.47% Percision: 87.03%\n",
      "                    Valid loss: 0.1684 Acc: 96.15% Percision: 95.06%\n",
      "        \n",
      "Saving model with loss 0.168...\n"
     ]
    },
    {
     "name": "stderr",
     "output_type": "stream",
     "text": [
      "Epoch [26/40 ]: 100%|██████████| 43/43 [00:02<00:00, 15.43it/s, loss=0.34390, acc=0.83990, percision=88.46%]\n"
     ]
    },
    {
     "name": "stdout",
     "output_type": "stream",
     "text": [
      "Epoch [26/40]: \n",
      "                    Train loss: 0.3486 Acc: 83.99% Percision: 88.46%\n",
      "                    Valid loss: 0.1515 Acc: 96.60% Percision: 95.76%\n",
      "        \n",
      "Saving model with loss 0.152...\n"
     ]
    },
    {
     "name": "stderr",
     "output_type": "stream",
     "text": [
      "Epoch [27/40 ]: 100%|██████████| 43/43 [00:02<00:00, 15.28it/s, loss=0.33674, acc=0.84343, percision=89.44%]\n"
     ]
    },
    {
     "name": "stdout",
     "output_type": "stream",
     "text": [
      "Epoch [27/40]: \n",
      "                    Train loss: 0.3392 Acc: 84.34% Percision: 89.44%\n",
      "                    Valid loss: 0.1408 Acc: 97.00% Percision: 95.86%\n",
      "        \n",
      "Saving model with loss 0.141...\n"
     ]
    },
    {
     "name": "stderr",
     "output_type": "stream",
     "text": [
      "Epoch [28/40 ]: 100%|██████████| 43/43 [00:02<00:00, 15.73it/s, loss=0.33119, acc=0.84706, percision=89.94%]\n"
     ]
    },
    {
     "name": "stdout",
     "output_type": "stream",
     "text": [
      "Epoch [28/40]: \n",
      "                    Train loss: 0.3291 Acc: 84.71% Percision: 89.94%\n",
      "                    Valid loss: 0.1353 Acc: 97.16% Percision: 96.89%\n",
      "        \n",
      "Saving model with loss 0.135...\n"
     ]
    },
    {
     "name": "stderr",
     "output_type": "stream",
     "text": [
      "Epoch [29/40 ]: 100%|██████████| 43/43 [00:02<00:00, 15.14it/s, loss=0.30980, acc=0.84959, percision=90.41%]\n"
     ]
    },
    {
     "name": "stdout",
     "output_type": "stream",
     "text": [
      "Epoch [29/40]: \n",
      "                    Train loss: 0.3213 Acc: 84.96% Percision: 90.41%\n",
      "                    Valid loss: 0.1237 Acc: 97.44% Percision: 96.80%\n",
      "        \n",
      "Saving model with loss 0.124...\n"
     ]
    },
    {
     "name": "stderr",
     "output_type": "stream",
     "text": [
      "Epoch [30/40 ]: 100%|██████████| 43/43 [00:02<00:00, 14.90it/s, loss=0.31387, acc=0.85156, percision=90.77%]\n"
     ]
    },
    {
     "name": "stdout",
     "output_type": "stream",
     "text": [
      "Epoch [30/40]: \n",
      "                    Train loss: 0.3152 Acc: 85.16% Percision: 90.77%\n",
      "                    Valid loss: 0.1153 Acc: 97.63% Percision: 96.56%\n",
      "        \n",
      "Saving model with loss 0.115...\n"
     ]
    },
    {
     "name": "stderr",
     "output_type": "stream",
     "text": [
      "Epoch [31/40 ]: 100%|██████████| 43/43 [00:02<00:00, 15.23it/s, loss=0.30519, acc=0.85329, percision=90.98%]\n"
     ]
    },
    {
     "name": "stdout",
     "output_type": "stream",
     "text": [
      "Epoch [31/40]: \n",
      "                    Train loss: 0.3095 Acc: 85.33% Percision: 90.98%\n",
      "                    Valid loss: 0.1187 Acc: 97.63% Percision: 97.62%\n",
      "        \n"
     ]
    },
    {
     "name": "stderr",
     "output_type": "stream",
     "text": [
      "Epoch [32/40 ]: 100%|██████████| 43/43 [00:02<00:00, 15.50it/s, loss=0.30480, acc=0.85488, percision=91.22%]\n"
     ]
    },
    {
     "name": "stdout",
     "output_type": "stream",
     "text": [
      "Epoch [32/40]: \n",
      "                    Train loss: 0.3051 Acc: 85.49% Percision: 91.22%\n",
      "                    Valid loss: 0.1022 Acc: 97.95% Percision: 96.72%\n",
      "        \n",
      "Saving model with loss 0.102...\n"
     ]
    },
    {
     "name": "stderr",
     "output_type": "stream",
     "text": [
      "Epoch [33/40 ]: 100%|██████████| 43/43 [00:02<00:00, 15.30it/s, loss=0.30106, acc=0.85684, percision=91.43%]\n"
     ]
    },
    {
     "name": "stdout",
     "output_type": "stream",
     "text": [
      "Epoch [33/40]: \n",
      "                    Train loss: 0.3004 Acc: 85.68% Percision: 91.43%\n",
      "                    Valid loss: 0.1037 Acc: 97.98% Percision: 97.35%\n",
      "        \n"
     ]
    },
    {
     "name": "stderr",
     "output_type": "stream",
     "text": [
      "Epoch [34/40 ]: 100%|██████████| 43/43 [00:02<00:00, 15.94it/s, loss=0.29081, acc=0.85793, percision=91.64%]\n"
     ]
    },
    {
     "name": "stdout",
     "output_type": "stream",
     "text": [
      "Epoch [34/40]: \n",
      "                    Train loss: 0.2970 Acc: 85.79% Percision: 91.64%\n",
      "                    Valid loss: 0.1004 Acc: 98.04% Percision: 97.64%\n",
      "        \n",
      "Saving model with loss 0.100...\n"
     ]
    },
    {
     "name": "stderr",
     "output_type": "stream",
     "text": [
      "Epoch [35/40 ]: 100%|██████████| 43/43 [00:02<00:00, 15.56it/s, loss=0.29082, acc=0.85934, percision=91.85%]\n"
     ]
    },
    {
     "name": "stdout",
     "output_type": "stream",
     "text": [
      "Epoch [35/40]: \n",
      "                    Train loss: 0.2936 Acc: 85.93% Percision: 91.85%\n",
      "                    Valid loss: 0.0920 Acc: 98.24% Percision: 97.52%\n",
      "        \n",
      "Saving model with loss 0.092...\n"
     ]
    },
    {
     "name": "stderr",
     "output_type": "stream",
     "text": [
      "Epoch [36/40 ]: 100%|██████████| 43/43 [00:02<00:00, 15.29it/s, loss=0.28544, acc=0.86074, percision=91.99%]\n"
     ]
    },
    {
     "name": "stdout",
     "output_type": "stream",
     "text": [
      "Epoch [36/40]: \n",
      "                    Train loss: 0.2895 Acc: 86.07% Percision: 91.99%\n",
      "                    Valid loss: 0.0970 Acc: 98.14% Percision: 97.89%\n",
      "        \n"
     ]
    },
    {
     "name": "stderr",
     "output_type": "stream",
     "text": [
      "Epoch [37/40 ]: 100%|██████████| 43/43 [00:02<00:00, 14.96it/s, loss=0.28208, acc=0.86209, percision=92.12%]\n"
     ]
    },
    {
     "name": "stdout",
     "output_type": "stream",
     "text": [
      "Epoch [37/40]: \n",
      "                    Train loss: 0.2866 Acc: 86.21% Percision: 92.12%\n",
      "                    Valid loss: 0.0871 Acc: 98.42% Percision: 97.81%\n",
      "        \n",
      "Saving model with loss 0.087...\n"
     ]
    },
    {
     "name": "stderr",
     "output_type": "stream",
     "text": [
      "Epoch [38/40 ]: 100%|██████████| 43/43 [00:02<00:00, 15.83it/s, loss=0.28341, acc=0.86323, percision=92.27%]\n"
     ]
    },
    {
     "name": "stdout",
     "output_type": "stream",
     "text": [
      "Epoch [38/40]: \n",
      "                    Train loss: 0.2834 Acc: 86.32% Percision: 92.27%\n",
      "                    Valid loss: 0.0835 Acc: 98.51% Percision: 97.82%\n",
      "        \n",
      "Saving model with loss 0.083...\n"
     ]
    },
    {
     "name": "stderr",
     "output_type": "stream",
     "text": [
      "Epoch [39/40 ]: 100%|██████████| 43/43 [00:02<00:00, 15.57it/s, loss=0.28151, acc=0.86356, percision=92.14%]\n"
     ]
    },
    {
     "name": "stdout",
     "output_type": "stream",
     "text": [
      "Epoch [39/40]: \n",
      "                    Train loss: 0.2819 Acc: 86.36% Percision: 92.14%\n",
      "                    Valid loss: 0.0788 Acc: 98.50% Percision: 97.77%\n",
      "        \n",
      "Saving model with loss 0.079...\n"
     ]
    },
    {
     "name": "stderr",
     "output_type": "stream",
     "text": [
      "Epoch [40/40 ]: 100%|██████████| 43/43 [00:02<00:00, 15.35it/s, loss=0.27668, acc=0.86433, percision=92.36%]\n"
     ]
    },
    {
     "name": "stdout",
     "output_type": "stream",
     "text": [
      "Epoch [40/40]: \n",
      "                    Train loss: 0.2793 Acc: 86.43% Percision: 92.36%\n",
      "                    Valid loss: 0.0712 Acc: 98.68% Percision: 97.46%\n",
      "        \n",
      "Saving model with loss 0.071...\n"
     ]
    },
    {
     "data": {
      "text/html": [
       "Waiting for W&B process to finish... <strong style=\"color:green\">(success).</strong>"
      ],
      "text/plain": [
       "<IPython.core.display.HTML object>"
      ]
     },
     "metadata": {},
     "output_type": "display_data"
    },
    {
     "name": "stderr",
     "output_type": "stream",
     "text": [
      "wandb: WARNING Source type is set to 'repo' but some required information is missing from the environment. A job will not be created from this run. See https://docs.wandb.ai/guides/launch/create-job\n"
     ]
    },
    {
     "data": {
      "application/vnd.jupyter.widget-view+json": {
       "model_id": "990024ca41bf4970a0c6165339131d04",
       "version_major": 2,
       "version_minor": 0
      },
      "text/plain": [
       "VBox(children=(Label(value='0.003 MB of 0.003 MB uploaded (0.000 MB deduped)\\r'), FloatProgress(value=1.0, max…"
      ]
     },
     "metadata": {},
     "output_type": "display_data"
    },
    {
     "data": {
      "text/html": [
       "<style>\n",
       "    table.wandb td:nth-child(1) { padding: 0 10px; text-align: left ; width: auto;} td:nth-child(2) {text-align: left ; width: 100%}\n",
       "    .wandb-row { display: flex; flex-direction: row; flex-wrap: wrap; justify-content: flex-start; width: 100% }\n",
       "    .wandb-col { display: flex; flex-direction: column; flex-basis: 100%; flex: 1; padding: 10px; }\n",
       "    </style>\n",
       "<div class=\"wandb-row\"><div class=\"wandb-col\"><h3>Run history:</h3><br/><table class=\"wandb\"><tr><td>TrainAcc</td><td>▁▂▂▂▂▂▃▃▃▃▃▃▃▃▃▃▃▄▄▄▅▆▆▆▇▇▇▇▇▇██████████</td></tr><tr><td>TrainLoss</td><td>█▆▅▅▅▅▅▅▅▄▄▄▄▄▄▄▄▄▄▃▃▃▂▂▂▂▂▂▂▁▁▁▁▁▁▁▁▁▁▁</td></tr><tr><td>TrainPercision</td><td>▁▁▁▁▁▂▃▃▄▄▄▄▄▄▅▅▅▅▅▆▆▇▇▇▇███████████████</td></tr><tr><td>ValAcc</td><td>▁▁▁▁▁▁▁▁▁▁▁▁▁▁▁▁▂▂▃▄▅▆▇▇▇▇██████████████</td></tr><tr><td>ValLoss</td><td>████████▇▇▇▇▇▇▇▇▆▆▆▅▄▄▃▃▂▂▂▂▂▂▂▁▁▁▁▁▁▁▁▁</td></tr><tr><td>ValPercision</td><td>▄▃▁▁▁▁▇▁▁▁█▇▇▇▇▇▇▇▇▇████████████████████</td></tr><tr><td>bestLoss</td><td> ████████▇▇▇▇▇▇▇▇▆▆▅▅▄▄▃▃▂▂▂▂▂▁▁▁▁▁▁▁▁▁▁</td></tr></table><br/></div><div class=\"wandb-col\"><h3>Run summary:</h3><br/><table class=\"wandb\"><tr><td>TrainAcc</td><td>86.43254</td></tr><tr><td>TrainLoss</td><td>0.27934</td></tr><tr><td>TrainPercision</td><td>92.36125</td></tr><tr><td>ValAcc</td><td>98.68158</td></tr><tr><td>ValLoss</td><td>0.07117</td></tr><tr><td>ValPercision</td><td>97.45636</td></tr><tr><td>bestLoss</td><td>0.07882</td></tr></table><br/></div></div>"
      ],
      "text/plain": [
       "<IPython.core.display.HTML object>"
      ]
     },
     "metadata": {},
     "output_type": "display_data"
    },
    {
     "data": {
      "text/html": [
       " View run <strong style=\"color:#cdcd00\">good-snow-29</strong> at: <a href='https://wandb.ai/296294812/XUNFEI-social-GAT/runs/bpqnfseu' target=\"_blank\">https://wandb.ai/296294812/XUNFEI-social-GAT/runs/bpqnfseu</a><br/>Synced 6 W&B file(s), 0 media file(s), 0 artifact file(s) and 0 other file(s)"
      ],
      "text/plain": [
       "<IPython.core.display.HTML object>"
      ]
     },
     "metadata": {},
     "output_type": "display_data"
    },
    {
     "data": {
      "text/html": [
       "Find logs at: <code>./wandb/run-20230920_031538-bpqnfseu/logs</code>"
      ],
      "text/plain": [
       "<IPython.core.display.HTML object>"
      ]
     },
     "metadata": {},
     "output_type": "display_data"
    }
   ],
   "source": [
    "# model\n",
    "model = GAT(num_emb=len(total_node), emb_dim=config.emb_dim, heads=config.heads, hidden_c=config.hidden_c)\n",
    "loss_record = trainer(train_loader, valid_loader, model, config)"
   ]
  },
  {
   "cell_type": "code",
   "execution_count": 71,
   "metadata": {},
   "outputs": [
    {
     "data": {
      "image/png": "[encoded data removed]",
      "text/plain": [
       "<Figure size 640x480 with 1 Axes>"
      ]
     },
     "metadata": {},
     "output_type": "display_data"
    }
   ],
   "source": [
    "import matplotlib.pyplot as plt\n",
    "plt.plot(loss_record)\n",
    "plt.show()"
   ]
  },
  {
   "cell_type": "markdown",
   "metadata": {},
   "source": [
    "# submit"
   ]
  },
  {
   "cell_type": "code",
   "execution_count": 74,
   "metadata": {},
   "outputs": [],
   "source": [
    "gc.collect()\n",
    "torch.cuda.empty_cache()\n",
    "model.eval()\n",
    "device = config.device\n",
    "loss_record = []\n",
    "test_accs = []\n",
    "ep_right_count = 0\n",
    "tt_count = 0\n",
    "data = te_dataset[0]\n",
    "data = data.to(device)\n",
    "label = data.y.to(device)\n",
    "with torch.no_grad():\n",
    "    pred = model(data)\n",
    "    mask = data.mask\n",
    "    tt_count += label[mask].size(0)\n",
    "    ep_right_count += torch.sum(pred[mask].argmax(dim=1) == label[mask]).cpu().detach().item()"
   ]
  },
  {
   "cell_type": "code",
   "execution_count": 75,
   "metadata": {},
   "outputs": [
    {
     "data": {
      "text/plain": [
       "(6422.0, 6011, 0.9360012442603531)"
      ]
     },
     "execution_count": 75,
     "metadata": {},
     "output_type": "execute_result"
    }
   ],
   "source": [
    "t_cnt, tp_cnt = 0, 0\n",
    "t_cnt += torch.sum(1.0 * (pred[mask].argmax(dim=1) == 1)).cpu().detach().item()\n",
    "tp_cnt += torch.sum((pred[mask].argmax(dim=1) == 1) & (label[mask] == 1)).cpu().detach().item()\n",
    "p_ = tp_cnt / (t_cnt + 1e-5)\n",
    "\n",
    "t_cnt, tp_cnt, p_"
   ]
  },
  {
   "cell_type": "code",
   "execution_count": 76,
   "metadata": {},
   "outputs": [
    {
     "data": {
      "text/plain": [
       "0    8029\n",
       "1    1971\n",
       "Name: target, dtype: int64"
      ]
     },
     "execution_count": 76,
     "metadata": {},
     "output_type": "execute_result"
    }
   ],
   "source": [
    "res = pd.DataFrame({\n",
    "'id':  data.x_info,\n",
    "'target': pred.argmax(dim=1).cpu().detach().numpy()\n",
    "})\n",
    "submit_df = pd.read_csv('./data/sample_submit.csv')\n",
    "sub = submit_df[['id']].merge(res, how='left', on='id')\n",
    "sub['target'].value_counts()\n",
    "\n",
    "# 0.8286\n",
    "# 0    8200\n",
    "# 1    1800\n",
    "# Name: target, dtype: int64\n",
    "\n",
    "# sub_mid_0919_02 0.8281\n",
    "# 0    8157\n",
    "# 1    1843\n",
    "# Name: target, dtype: int64\n",
    "\n",
    "# sub_mid_20_03 0.8077\n",
    "# 0    7665\n",
    "# 1    2335\n",
    "# Name: target, dtype: int64\n",
    "\n",
    "# 0.8263 sub_mid_20_02\n",
    "# 0    8273\n",
    "# 1    1727\n",
    "# Name: target, dtype: int64"
   ]
  },
  {
   "cell_type": "code",
   "execution_count": 77,
   "metadata": {},
   "outputs": [
    {
     "data": {
      "text/plain": [
       "0.0    0.738809\n",
       "1.0    0.261191\n",
       "Name: target, dtype: float64"
      ]
     },
     "execution_count": 77,
     "metadata": {},
     "output_type": "execute_result"
    }
   ],
   "source": [
    "label_df[label_df.target >=0].target.value_counts(normalize=True)"
   ]
  },
  {
   "cell_type": "code",
   "execution_count": 78,
   "metadata": {},
   "outputs": [
    {
     "name": "stdout",
     "output_type": "stream",
     "text": [
      "8286.0 1714.0 1628.6\n",
      "tn_rate=0.05 a=[1714.3   85.7 1628.3 6571.7] positive=3342.6 pos_rate=33.43% acc=82.86% pecision=95.24%\n",
      "tn_rate=0.10 a=[1628.6  171.4 1542.6 6657.4] positive=3171.2 pos_rate=31.71% acc=82.86% pecision=90.48%\n",
      "tn_rate=0.15 a=[1542.9  257.1 1456.9 6743.1] positive=2999.8 pos_rate=30.00% acc=82.86% pecision=85.72%\n",
      "tn_rate=0.20 a=[1457.2  342.8 1371.2 6828.8] positive=2828.4 pos_rate=28.28% acc=82.86% pecision=80.96%\n",
      "tn_rate=0.25 a=[1371.5  428.5 1285.5 6914.5] positive=2657.0 pos_rate=26.57% acc=82.86% pecision=76.19%\n",
      "tn_rate=0.26 a=[1354.4  445.6 1268.4 6931.6] positive=2622.8 pos_rate=26.23% acc=82.86% pecision=75.24%\n",
      "tn_rate=0.27 a=[1337.2  462.8 1251.2 6948.8] positive=2588.4 pos_rate=25.88% acc=82.86% pecision=74.29%\n",
      "tn_rate=0.30 a=[1285.8  514.2 1199.8 7000.2] positive=2485.6 pos_rate=24.86% acc=82.86% pecision=71.43%\n",
      "tn_rate=0.50 a=[ 943.  857.  857. 7343.] positive=1800.0 pos_rate=18.00% acc=82.86% pecision=52.39%\n",
      "tn_rate=0.55 a=[ 857.3  942.7  771.3 7428.7] positive=1628.6 pos_rate=16.29% acc=82.86% pecision=47.63%\n"
     ]
    }
   ],
   "source": [
    "tt = 8200 + 1800\n",
    "print(tt * 0.8286, (1 - 0.8286) * tt, 1800 - 1714.0 * 0.1)\n",
    "# tp+fn=8286, tn+fp = 1714\n",
    "# tp+tn=1800\n",
    "\n",
    "for tn_rate in [0.05, 0.1, 0.15, 0.2, 0.25, 0.26, 0.27, 0.3, 0.5, 0.55]:\n",
    "    tn = tn_rate * 1714\n",
    "    tp = 1800 - tn\n",
    "    fp = 1714 * (1 - tn_rate)\n",
    "    fn = 8286 - tp\n",
    "    a = np.array([tp, tn, fp, fn])\n",
    "    a = np.round(a, 1)\n",
    "    pos_cnt = a[0] + a[2]\n",
    "    pos_rate = pos_cnt / tt * 100\n",
    "    acc = (a[0] + a[3]) / tt * 100\n",
    "    pecision = tp / (tn + tp) * 100\n",
    "    print(f'tn_rate={tn_rate:.2f} a={a} positive={pos_cnt:.1f} pos_rate={pos_rate:.2f}% acc={acc:.2f}% pecision={pecision:.2f}%')"
   ]
  },
  {
   "cell_type": "code",
   "execution_count": 79,
   "metadata": {},
   "outputs": [],
   "source": [
    "sub.to_csv('./data/sub_mid_20_04.csv', index=False)"
   ]
  },
  {
   "cell_type": "code",
   "execution_count": 71,
   "metadata": {},
   "outputs": [
    {
     "data": {
      "text/plain": [
       "0    8280\n",
       "1    1720\n",
       "Name: target, dtype: int64"
      ]
     },
     "execution_count": 71,
     "metadata": {},
     "output_type": "execute_result"
    }
   ],
   "source": [
    "# sub = pd.read_csv('./data/sub_mid_20_04.csv')\n",
    "# sub['target'].value_counts()"
   ]
  },
  {
   "cell_type": "code",
   "execution_count": 75,
   "metadata": {},
   "outputs": [
    {
     "data": {
      "text/html": [
       "<div>\n",
       "<style scoped>\n",
       "    .dataframe tbody tr th:only-of-type {\n",
       "        vertical-align: middle;\n",
       "    }\n",
       "\n",
       "    .dataframe tbody tr th {\n",
       "        vertical-align: top;\n",
       "    }\n",
       "\n",
       "    .dataframe thead th {\n",
       "        text-align: right;\n",
       "    }\n",
       "</style>\n",
       "<table border=\"1\" class=\"dataframe\">\n",
       "  <thead>\n",
       "    <tr style=\"text-align: right;\">\n",
       "      <th></th>\n",
       "      <th>id</th>\n",
       "      <th>target</th>\n",
       "      <th>t2</th>\n",
       "    </tr>\n",
       "  </thead>\n",
       "  <tbody>\n",
       "    <tr>\n",
       "      <th>0</th>\n",
       "      <td>00004509-7c0b-41d8-bef4-30d85c1de29d</td>\n",
       "      <td>0</td>\n",
       "      <td>0</td>\n",
       "    </tr>\n",
       "    <tr>\n",
       "      <th>1</th>\n",
       "      <td>000c248a-b598-42b5-a9fb-73709ee10c26</td>\n",
       "      <td>1</td>\n",
       "      <td>1</td>\n",
       "    </tr>\n",
       "    <tr>\n",
       "      <th>2</th>\n",
       "      <td>00113a82-dfac-4293-b1ad-f0b4e39d9717</td>\n",
       "      <td>0</td>\n",
       "      <td>0</td>\n",
       "    </tr>\n",
       "    <tr>\n",
       "      <th>3</th>\n",
       "      <td>001dd7c7-3cb3-43e0-97b7-e2e4766cb052</td>\n",
       "      <td>0</td>\n",
       "      <td>0</td>\n",
       "    </tr>\n",
       "    <tr>\n",
       "      <th>4</th>\n",
       "      <td>002cc686-0f40-42e7-82e1-05723961dc40</td>\n",
       "      <td>1</td>\n",
       "      <td>0</td>\n",
       "    </tr>\n",
       "    <tr>\n",
       "      <th>...</th>\n",
       "      <td>...</td>\n",
       "      <td>...</td>\n",
       "      <td>...</td>\n",
       "    </tr>\n",
       "    <tr>\n",
       "      <th>9995</th>\n",
       "      <td>ffe68f81-ad8d-4152-9f34-f0d45f65dc6e</td>\n",
       "      <td>0</td>\n",
       "      <td>0</td>\n",
       "    </tr>\n",
       "    <tr>\n",
       "      <th>9996</th>\n",
       "      <td>ffe8fb98-231a-42cc-98a5-2f4a636679cf</td>\n",
       "      <td>1</td>\n",
       "      <td>1</td>\n",
       "    </tr>\n",
       "    <tr>\n",
       "      <th>9997</th>\n",
       "      <td>ffeba678-e53b-4228-bed2-7d7036245752</td>\n",
       "      <td>0</td>\n",
       "      <td>0</td>\n",
       "    </tr>\n",
       "    <tr>\n",
       "      <th>9998</th>\n",
       "      <td>fff10e16-f1fd-46de-b8c7-8f847f572fa8</td>\n",
       "      <td>0</td>\n",
       "      <td>0</td>\n",
       "    </tr>\n",
       "    <tr>\n",
       "      <th>9999</th>\n",
       "      <td>fffc739e-fde5-48ee-b6ed-a5e4fd687da3</td>\n",
       "      <td>0</td>\n",
       "      <td>0</td>\n",
       "    </tr>\n",
       "  </tbody>\n",
       "</table>\n",
       "<p>10000 rows × 3 columns</p>\n",
       "</div>"
      ],
      "text/plain": [
       "                                        id  target  t2\n",
       "0     00004509-7c0b-41d8-bef4-30d85c1de29d       0   0\n",
       "1     000c248a-b598-42b5-a9fb-73709ee10c26       1   1\n",
       "2     00113a82-dfac-4293-b1ad-f0b4e39d9717       0   0\n",
       "3     001dd7c7-3cb3-43e0-97b7-e2e4766cb052       0   0\n",
       "4     002cc686-0f40-42e7-82e1-05723961dc40       1   0\n",
       "...                                    ...     ...  ..\n",
       "9995  ffe68f81-ad8d-4152-9f34-f0d45f65dc6e       0   0\n",
       "9996  ffe8fb98-231a-42cc-98a5-2f4a636679cf       1   1\n",
       "9997  ffeba678-e53b-4228-bed2-7d7036245752       0   0\n",
       "9998  fff10e16-f1fd-46de-b8c7-8f847f572fa8       0   0\n",
       "9999  fffc739e-fde5-48ee-b6ed-a5e4fd687da3       0   0\n",
       "\n",
       "[10000 rows x 3 columns]"
      ]
     },
     "execution_count": 75,
     "metadata": {},
     "output_type": "execute_result"
    }
   ],
   "source": [
    "sub1 = pd.read_csv('./data/sub_mid_20_02.csv')\n",
    "sub1['target'].value_counts()\n",
    "\n",
    "sub2 = pd.read_csv('./data/sub_0919.csv')\n",
    "sub2['target'].value_counts()\n",
    "\n",
    "sub2.merge(sub1.rename(columns={'target': 't2'}), how='left', on='id')"
   ]
  }
 ],
 "metadata": {
  "kernelspec": {
   "display_name": "sccRL",
   "language": "python",
   "name": "python3"
  },
  "language_info": {
   "codemirror_mode": {
    "name": "ipython",
    "version": 3
   },
   "file_extension": ".py",
   "mimetype": "text/x-python",
   "name": "python",
   "nbconvert_exporter": "python",
   "pygments_lexer": "ipython3",
   "version": "3.10.9"
  },
  "orig_nbformat": 4
 },
 "nbformat": 4,
 "nbformat_minor": 2
}
