{
 "cells": [
  {
   "cell_type": "code",
   "execution_count": 15,
   "metadata": {},
   "outputs": [],
   "source": [
    "from typing import List, Tuple, Union\n",
    "from datetime import datetime, timedelta\n",
    "import math\n",
    "import os\n",
    "import torch\n",
    "from torch import nn\n",
    "from torch.nn import functional as F\n",
    "from torch_geometric.data import Data, InMemoryDataset\n",
    "from torch_geometric.loader import DataLoader\n",
    "from torch_geometric.nn import GATv2Conv, GCNConv, SAGPooling, global_max_pool, global_mean_pool, GATConv\n",
    "import pandas as pd\n",
    "import numpy as np\n",
    "from sklearn.preprocessing import LabelEncoder\n",
    "from sklearn.metrics import accuracy_score\n",
    "from tqdm import tqdm\n",
    "from argparse import Namespace\n",
    "import gc\n",
    "\n"
   ]
  },
  {
   "cell_type": "markdown",
   "metadata": {},
   "source": [
    "# loading Data"
   ]
  },
  {
   "cell_type": "code",
   "execution_count": 2,
   "metadata": {},
   "outputs": [],
   "source": [
    "\n",
    "df = pd.read_csv('./data/train.csv')\n",
    "test_df = pd.read_csv('./data/test.csv')\n",
    "edges = pd.read_csv('./data/edges.csv')\n",
    "# 查看test 是否全没有出现\n",
    "test_no_see_count = len(set(test_df['id'].unique()) - set(df['id'].unique()))\n",
    "test_no_see_count == test_df['id'].nunique()\n",
    "\n",
    "# 查看test是否在 edge中出现\n",
    "no_edge_count = len(\n",
    "    set(edges['id_1'].tolist() + edges['id_2'].tolist()) - \n",
    "    set(test_df['id'].unique()) - \n",
    "    set(df['id'].unique())\n",
    ")\n",
    "\n",
    "\n",
    "total_node = sorted(set(edges['id_1'].tolist() + edges['id_2'].tolist()))\n",
    "lb_ecoder = LabelEncoder()\n",
    "lb_ecoder.fit(np.array(total_node))\n",
    "edges['id_1_idx'] = lb_ecoder.transform(edges['id_1'])\n",
    "edges['id_2_idx'] = lb_ecoder.transform(edges['id_2'])\n",
    "\n",
    "\n",
    "label_df = pd.DataFrame(np.array(total_node), columns=['id'])\n",
    "label_df['id_idx'] = lb_ecoder.transform(label_df['id'])\n",
    "label_df = label_df.merge(df, how='left', on='id')\n",
    "label_df['target'] = label_df['target'].fillna(-1)\n"
   ]
  },
  {
   "cell_type": "markdown",
   "metadata": {},
   "source": [
    "# dataLoader"
   ]
  },
  {
   "cell_type": "code",
   "execution_count": 3,
   "metadata": {},
   "outputs": [],
   "source": [
    "\n",
    "class graphData(InMemoryDataset):\n",
    "    def __init__(self, root, label_df_in, data_type='train', random_sample_ratio=0.3, random_graph_count=1024):\n",
    "        self.idx = {\n",
    "            'train': 0, 'val': 1, 'test': 2\n",
    "        }[data_type]\n",
    "        label_df_in = label_df_in.copy(deep=True).sort_values(by='id_idx', ignore_index=True)\n",
    "        self.mask = torch.tensor(label_df_in['target'] != -1)\n",
    "        self.node_features = torch.LongTensor(label_df_in['id_idx'].values)\n",
    "        self.node_label = torch.tensor(label_df_in['target'].values).float()\n",
    "        self.node_info = label_df_in['id'].values\n",
    "        self.random_sample_ratio = random_sample_ratio\n",
    "        self.random_graph_count = random_graph_count\n",
    "        super().__init__(root)\n",
    "        self.data, self.slices = torch.load(self.processed_paths[self.idx])\n",
    "\n",
    "\n",
    "    @property\n",
    "    def processed_file_names(self):\n",
    "        return ['edge_processed__tr.dataset', 'edge_processed__val.dataset', 'edge_processed__test.dataset']\n",
    "\n",
    "\n",
    "    def process(self):\n",
    "        data_list = []\n",
    "        if self.idx == 2:\n",
    "            edges_smaple = edges.reset_index(drop=True).copy(deep=True)\n",
    "            data = Data(\n",
    "                x=self.node_features, \n",
    "                edge_index=torch.LongTensor(edges_smaple[['id_1_idx', 'id_2_idx']].values.T),\n",
    "                y=self.node_label,\n",
    "                mask=self.mask,\n",
    "                x_info=self.node_info\n",
    "            )\n",
    "            data_list.append(data)\n",
    "            data, slices = self.collate(data_list)\n",
    "            torch.save((data, slices), self.processed_paths[self.idx])  \n",
    "            return None\n",
    "        \n",
    "        # random sample \n",
    "        for _ in tqdm(range(self.random_graph_count), total=self.random_graph_count):\n",
    "            edges_smaple = edges.sample(frac=self.random_sample_ratio, replace=False).reset_index(drop=True)\n",
    "            data = Data(\n",
    "                x=self.node_features, \n",
    "                edge_index=torch.LongTensor(edges_smaple[['id_1_idx', 'id_2_idx']].values.T),\n",
    "                y=self.node_label,\n",
    "                mask=self.mask,\n",
    "                x_info=self.node_info\n",
    "            )\n",
    "            data_list.append(data)\n",
    "\n",
    "\n",
    "        data, slices = self.collate(data_list)\n",
    "        torch.save((data, slices), self.processed_paths[self.idx])   \n",
    "        return None\n",
    "        "
   ]
  },
  {
   "cell_type": "code",
   "execution_count": 4,
   "metadata": {},
   "outputs": [
    {
     "name": "stderr",
     "output_type": "stream",
     "text": [
      "Processing...\n",
      "100%|██████████| 256/256 [00:01<00:00, 134.37it/s]\n",
      "Done!\n",
      "Processing...\n",
      "100%|██████████| 64/64 [00:00<00:00, 131.96it/s]\n",
      "Done!\n",
      "Processing...\n",
      "Done!\n"
     ]
    }
   ],
   "source": [
    "# dataloader\n",
    "tr_dataset = graphData('./data/', label_df, data_type='train', random_sample_ratio=0.3, random_graph_count=256)\n",
    "val_dataset = graphData('./data/', label_df, data_type='val', random_sample_ratio=0.3, random_graph_count=64)\n",
    "te_dataset = graphData('./data/', label_df, data_type='test', random_sample_ratio=0.3, random_graph_count=64)"
   ]
  },
  {
   "cell_type": "markdown",
   "metadata": {},
   "source": [
    "# Model "
   ]
  },
  {
   "cell_type": "code",
   "execution_count": 6,
   "metadata": {},
   "outputs": [],
   "source": [
    "\n",
    "class GAT(torch.nn.Module):\n",
    "    def __init__(self, num_emb, emb_dim=128, heads=8, hidden_c=16):\n",
    "        super().__init__()\n",
    "        self.node_emb = nn.Embedding(num_embeddings=num_emb, embedding_dim=emb_dim)\n",
    "        \n",
    "        self.conv1 = GATConv(emb_dim, hidden_c, heads, dropout=0.6)\n",
    "        self.conv2 = GATConv(hidden_c * heads, hidden_c, heads, dropout=0.6)\n",
    "        # self.conv3 = GATConv(hidden_c * heads, hidden_c, heads, dropout=0.6)\n",
    "        self.conv4 = GATConv(hidden_c * heads, 2, heads=1,\n",
    "                             concat=False, dropout=0.6)\n",
    "\n",
    "\n",
    "    def forward(self, data):\n",
    "        x, edge_index, batch = data.x, data.edge_index, data.batch\n",
    "        # [b, n, emb_dim]\n",
    "        x = self.node_emb(x)\n",
    "        x = x.squeeze(1) \n",
    "        \n",
    "        x = F.dropout(x, p=0.2, training=self.training)\n",
    "        x = F.relu(self.conv1(x, edge_index))\n",
    "        \n",
    "        x = F.dropout(x, p=0.2, training=self.training)\n",
    "        x = F.relu(self.conv2(x, edge_index))\n",
    "        \n",
    "        x = F.dropout(x, p=0.2, training=self.training)\n",
    "        x = self.conv4(x, edge_index)\n",
    "        return x\n",
    "\n"
   ]
  },
  {
   "cell_type": "markdown",
   "metadata": {},
   "source": [
    "# Triaining "
   ]
  },
  {
   "cell_type": "code",
   "execution_count": 16,
   "metadata": {},
   "outputs": [],
   "source": [
    "\n",
    "def trainer(train_loader, valid_loader, model, config):\n",
    "    device = config.device\n",
    "    model.to('cpu')\n",
    "    model.to(device)\n",
    "    loss_fn = nn.CrossEntropyLoss()\n",
    "    optimizer = torch.optim.Adam(model.parameters(), lr=config.lr) \n",
    "    save_path = config.save_path\n",
    "\n",
    "\n",
    "    if not os.path.isdir('./models'):\n",
    "        os.mkdir('./models')\n",
    "\n",
    "\n",
    "    n_epochs, best_loss, step, early_stop_count = config.n_epochs, math.inf, 0, 0\n",
    "    ep_val_loss_collect = []\n",
    "    for epoch in range(n_epochs):\n",
    "        gc.collect()\n",
    "        torch.cuda.empty_cache()\n",
    "        model.train()\n",
    "        loss_record = []\n",
    "        train_pbar = tqdm(train_loader, position=0, leave=True)\n",
    "        train_pbar.set_description(f'Epoch [{epoch+1:02d}/{n_epochs:02d} ]')\n",
    "        ep_right_count = 0\n",
    "        tt_count = 0\n",
    "        for data in train_pbar:\n",
    "            optimizer.zero_grad() \n",
    "            data = data.to(device)\n",
    "            label = data.y.to(device)\n",
    "            pred = model(data)\n",
    "            mask = data.mask\n",
    "            loss = loss_fn(pred[mask], label[mask].long())\n",
    "            tt_count += label[mask].size(0)\n",
    "            ep_right_count += torch.sum(pred[mask].argmax(dim=1) == label[mask]).cpu().detach().item()\n",
    "            loss.backward()\n",
    "            optimizer.step()\n",
    "            \n",
    "            step += 1\n",
    "            l_ = loss.detach().item()\n",
    "            loss_record.append(l_)\n",
    "            train_pbar.set_postfix({'loss': f'{l_:.5f}', 'acc': '{:.5f}'.format(ep_right_count/tt_count) })\n",
    "        \n",
    "        mean_train_loss = sum(loss_record)/len(loss_record)\n",
    "        mean_train_acc = ep_right_count/tt_count * 100\n",
    "        model.eval()\n",
    "        loss_record = []\n",
    "        test_accs = []\n",
    "        ep_right_count = 0\n",
    "        tt_count = 0\n",
    "        for data in valid_loader:\n",
    "            data = data.to(device)\n",
    "            label = data.y.to(device)\n",
    "            with torch.no_grad():\n",
    "                pred = model(data)\n",
    "                mask = data.mask\n",
    "                loss = loss_fn(pred[mask], label[mask].long())\n",
    "                tt_count += label[mask].size(0)\n",
    "                ep_right_count += torch.sum(pred[mask].argmax(dim=1) == label[mask]).cpu().detach().item()\n",
    "            loss_record.append(loss.item())\n",
    "            \n",
    "        mean_valid_loss = sum(loss_record)/len(loss_record)\n",
    "        mean_valid_acc = ep_right_count/tt_count * 100\n",
    "        ep_val_loss_collect.append(mean_valid_loss)\n",
    "        print(f'Epoch [{epoch+1:02d}/{n_epochs:02d}]: Train loss: {mean_train_loss:.4f} Acc: {mean_train_acc:.2f}%  Valid loss: {mean_valid_loss:.4f} Acc: {mean_valid_acc:.2f}%')\n",
    "        if (epoch+1) % 10 == 0:\n",
    "            dt_hhmm = datetime.now().strftime('%Y%m%d_%H%M')\n",
    "            save_path_f = save_path.replace('.ckpt', f'_10ep_{dt_hhmm}.ckpt')\n",
    "            torch.save(model.state_dict(), save_path_f) \n",
    "        \n",
    "        if mean_valid_loss < best_loss:\n",
    "            best_loss = mean_valid_loss\n",
    "            torch.save(model.state_dict(), save_path) \n",
    "            print('Saving model with loss {:.3f}...'.format(best_loss))\n",
    "            early_stop_count = 0\n",
    "        else: \n",
    "            early_stop_count += 1\n",
    "\n",
    "\n",
    "        if early_stop_count >= config.early_stop:\n",
    "            print('\\nModel is not improving, so we halt the training session.')\n",
    "    return ep_val_loss_collect"
   ]
  },
  {
   "cell_type": "code",
   "execution_count": 17,
   "metadata": {},
   "outputs": [
    {
     "name": "stderr",
     "output_type": "stream",
     "text": [
      "Epoch [01/30 ]: 100%|██████████| 43/43 [00:05<00:00,  7.85it/s, loss=0.76002, acc=0.69448]\n"
     ]
    },
    {
     "name": "stdout",
     "output_type": "stream",
     "text": [
      "Epoch [01/30]: Train loss: 0.9168 Acc: 69.45%  Valid loss: 0.6054 Acc: 73.82%\n",
      "Saving model with loss 0.605...\n"
     ]
    },
    {
     "name": "stderr",
     "output_type": "stream",
     "text": [
      "Epoch [02/30 ]: 100%|██████████| 43/43 [00:05<00:00,  7.86it/s, loss=0.67545, acc=0.71484]\n"
     ]
    },
    {
     "name": "stdout",
     "output_type": "stream",
     "text": [
      "Epoch [02/30]: Train loss: 0.7105 Acc: 71.48%  Valid loss: 0.6003 Acc: 73.88%\n",
      "Saving model with loss 0.600...\n"
     ]
    },
    {
     "name": "stderr",
     "output_type": "stream",
     "text": [
      "Epoch [03/30 ]: 100%|██████████| 43/43 [00:05<00:00,  7.84it/s, loss=0.64141, acc=0.72385]\n"
     ]
    },
    {
     "name": "stdout",
     "output_type": "stream",
     "text": [
      "Epoch [03/30]: Train loss: 0.6570 Acc: 72.39%  Valid loss: 0.5946 Acc: 73.88%\n",
      "Saving model with loss 0.595...\n"
     ]
    },
    {
     "name": "stderr",
     "output_type": "stream",
     "text": [
      "Epoch [04/30 ]: 100%|██████████| 43/43 [00:05<00:00,  7.87it/s, loss=0.62179, acc=0.72908]\n"
     ]
    },
    {
     "name": "stdout",
     "output_type": "stream",
     "text": [
      "Epoch [04/30]: Train loss: 0.6307 Acc: 72.91%  Valid loss: 0.5865 Acc: 73.88%\n",
      "Saving model with loss 0.587...\n"
     ]
    },
    {
     "name": "stderr",
     "output_type": "stream",
     "text": [
      "Epoch [05/30 ]: 100%|██████████| 43/43 [00:05<00:00,  7.87it/s, loss=0.60648, acc=0.73230]\n"
     ]
    },
    {
     "name": "stdout",
     "output_type": "stream",
     "text": [
      "Epoch [05/30]: Train loss: 0.6113 Acc: 73.23%  Valid loss: 0.5819 Acc: 73.88%\n",
      "Saving model with loss 0.582...\n"
     ]
    },
    {
     "name": "stderr",
     "output_type": "stream",
     "text": [
      "Epoch [06/30 ]: 100%|██████████| 43/43 [00:05<00:00,  7.85it/s, loss=0.59450, acc=0.73507]\n"
     ]
    },
    {
     "name": "stdout",
     "output_type": "stream",
     "text": [
      "Epoch [06/30]: Train loss: 0.5994 Acc: 73.51%  Valid loss: 0.5775 Acc: 73.88%\n",
      "Saving model with loss 0.578...\n"
     ]
    },
    {
     "name": "stderr",
     "output_type": "stream",
     "text": [
      "Epoch [07/30 ]: 100%|██████████| 43/43 [00:05<00:00,  7.86it/s, loss=0.58706, acc=0.73641]\n"
     ]
    },
    {
     "name": "stdout",
     "output_type": "stream",
     "text": [
      "Epoch [07/30]: Train loss: 0.5909 Acc: 73.64%  Valid loss: 0.5709 Acc: 73.88%\n",
      "Saving model with loss 0.571...\n"
     ]
    },
    {
     "name": "stderr",
     "output_type": "stream",
     "text": [
      "Epoch [08/30 ]: 100%|██████████| 43/43 [00:05<00:00,  7.91it/s, loss=0.58020, acc=0.73717]\n"
     ]
    },
    {
     "name": "stdout",
     "output_type": "stream",
     "text": [
      "Epoch [08/30]: Train loss: 0.5837 Acc: 73.72%  Valid loss: 0.5618 Acc: 73.88%\n",
      "Saving model with loss 0.562...\n"
     ]
    },
    {
     "name": "stderr",
     "output_type": "stream",
     "text": [
      "Epoch [09/30 ]: 100%|██████████| 43/43 [00:05<00:00,  7.91it/s, loss=0.57244, acc=0.73760]\n"
     ]
    },
    {
     "name": "stdout",
     "output_type": "stream",
     "text": [
      "Epoch [09/30]: Train loss: 0.5763 Acc: 73.76%  Valid loss: 0.5498 Acc: 73.88%\n",
      "Saving model with loss 0.550...\n"
     ]
    },
    {
     "name": "stderr",
     "output_type": "stream",
     "text": [
      "Epoch [10/30 ]: 100%|██████████| 43/43 [00:05<00:00,  7.92it/s, loss=0.56454, acc=0.73791]\n"
     ]
    },
    {
     "name": "stdout",
     "output_type": "stream",
     "text": [
      "Epoch [10/30]: Train loss: 0.5681 Acc: 73.79%  Valid loss: 0.5342 Acc: 73.88%\n",
      "Saving model with loss 0.534...\n"
     ]
    },
    {
     "name": "stderr",
     "output_type": "stream",
     "text": [
      "Epoch [11/30 ]: 100%|██████████| 43/43 [00:05<00:00,  7.88it/s, loss=0.55529, acc=0.73853]\n"
     ]
    },
    {
     "name": "stdout",
     "output_type": "stream",
     "text": [
      "Epoch [11/30]: Train loss: 0.5589 Acc: 73.85%  Valid loss: 0.5144 Acc: 73.88%\n",
      "Saving model with loss 0.514...\n"
     ]
    },
    {
     "name": "stderr",
     "output_type": "stream",
     "text": [
      "Epoch [12/30 ]: 100%|██████████| 43/43 [00:05<00:00,  7.88it/s, loss=0.54355, acc=0.73972]\n"
     ]
    },
    {
     "name": "stdout",
     "output_type": "stream",
     "text": [
      "Epoch [12/30]: Train loss: 0.5489 Acc: 73.97%  Valid loss: 0.4907 Acc: 73.88%\n",
      "Saving model with loss 0.491...\n"
     ]
    },
    {
     "name": "stderr",
     "output_type": "stream",
     "text": [
      "Epoch [13/30 ]: 100%|██████████| 43/43 [00:05<00:00,  7.87it/s, loss=0.53136, acc=0.74266]\n"
     ]
    },
    {
     "name": "stdout",
     "output_type": "stream",
     "text": [
      "Epoch [13/30]: Train loss: 0.5370 Acc: 74.27%  Valid loss: 0.4653 Acc: 73.97%\n",
      "Saving model with loss 0.465...\n"
     ]
    },
    {
     "name": "stderr",
     "output_type": "stream",
     "text": [
      "Epoch [14/30 ]: 100%|██████████| 43/43 [00:05<00:00,  7.88it/s, loss=0.51749, acc=0.74847]\n"
     ]
    },
    {
     "name": "stdout",
     "output_type": "stream",
     "text": [
      "Epoch [14/30]: Train loss: 0.5234 Acc: 74.85%  Valid loss: 0.4343 Acc: 75.09%\n",
      "Saving model with loss 0.434...\n"
     ]
    },
    {
     "name": "stderr",
     "output_type": "stream",
     "text": [
      "Epoch [15/30 ]: 100%|██████████| 43/43 [00:05<00:00,  7.85it/s, loss=0.49928, acc=0.75892]\n"
     ]
    },
    {
     "name": "stdout",
     "output_type": "stream",
     "text": [
      "Epoch [15/30]: Train loss: 0.5078 Acc: 75.89%  Valid loss: 0.3982 Acc: 78.66%\n",
      "Saving model with loss 0.398...\n"
     ]
    },
    {
     "name": "stderr",
     "output_type": "stream",
     "text": [
      "Epoch [16/30 ]: 100%|██████████| 43/43 [00:05<00:00,  7.88it/s, loss=0.47992, acc=0.77241]\n"
     ]
    },
    {
     "name": "stdout",
     "output_type": "stream",
     "text": [
      "Epoch [16/30]: Train loss: 0.4902 Acc: 77.24%  Valid loss: 0.3576 Acc: 85.06%\n",
      "Saving model with loss 0.358...\n"
     ]
    },
    {
     "name": "stderr",
     "output_type": "stream",
     "text": [
      "Epoch [17/30 ]: 100%|██████████| 43/43 [00:05<00:00,  7.88it/s, loss=0.46156, acc=0.78662]\n"
     ]
    },
    {
     "name": "stdout",
     "output_type": "stream",
     "text": [
      "Epoch [17/30]: Train loss: 0.4710 Acc: 78.66%  Valid loss: 0.3141 Acc: 89.04%\n",
      "Saving model with loss 0.314...\n"
     ]
    },
    {
     "name": "stderr",
     "output_type": "stream",
     "text": [
      "Epoch [18/30 ]: 100%|██████████| 43/43 [00:05<00:00,  7.86it/s, loss=0.44589, acc=0.79925]\n"
     ]
    },
    {
     "name": "stdout",
     "output_type": "stream",
     "text": [
      "Epoch [18/30]: Train loss: 0.4521 Acc: 79.93%  Valid loss: 0.2727 Acc: 91.32%\n",
      "Saving model with loss 0.273...\n"
     ]
    },
    {
     "name": "stderr",
     "output_type": "stream",
     "text": [
      "Epoch [19/30 ]: 100%|██████████| 43/43 [00:05<00:00,  7.86it/s, loss=0.42917, acc=0.80850]\n"
     ]
    },
    {
     "name": "stdout",
     "output_type": "stream",
     "text": [
      "Epoch [19/30]: Train loss: 0.4355 Acc: 80.85%  Valid loss: 0.2408 Acc: 92.40%\n",
      "Saving model with loss 0.241...\n"
     ]
    },
    {
     "name": "stderr",
     "output_type": "stream",
     "text": [
      "Epoch [20/30 ]: 100%|██████████| 43/43 [00:05<00:00,  7.89it/s, loss=0.41699, acc=0.81476]\n"
     ]
    },
    {
     "name": "stdout",
     "output_type": "stream",
     "text": [
      "Epoch [20/30]: Train loss: 0.4225 Acc: 81.48%  Valid loss: 0.2155 Acc: 93.07%\n",
      "Saving model with loss 0.216...\n"
     ]
    },
    {
     "name": "stderr",
     "output_type": "stream",
     "text": [
      "Epoch [21/30 ]: 100%|██████████| 43/43 [00:05<00:00,  7.85it/s, loss=0.40779, acc=0.81924]\n"
     ]
    },
    {
     "name": "stdout",
     "output_type": "stream",
     "text": [
      "Epoch [21/30]: Train loss: 0.4123 Acc: 81.92%  Valid loss: 0.1994 Acc: 93.44%\n",
      "Saving model with loss 0.199...\n"
     ]
    },
    {
     "name": "stderr",
     "output_type": "stream",
     "text": [
      "Epoch [22/30 ]: 100%|██████████| 43/43 [00:05<00:00,  7.87it/s, loss=0.40271, acc=0.82192]\n"
     ]
    },
    {
     "name": "stdout",
     "output_type": "stream",
     "text": [
      "Epoch [22/30]: Train loss: 0.4051 Acc: 82.19%  Valid loss: 0.1853 Acc: 93.76%\n",
      "Saving model with loss 0.185...\n"
     ]
    },
    {
     "name": "stderr",
     "output_type": "stream",
     "text": [
      "Epoch [23/30 ]: 100%|██████████| 43/43 [00:05<00:00,  7.86it/s, loss=0.39649, acc=0.82459]\n"
     ]
    },
    {
     "name": "stdout",
     "output_type": "stream",
     "text": [
      "Epoch [23/30]: Train loss: 0.3985 Acc: 82.46%  Valid loss: 0.1745 Acc: 94.04%\n",
      "Saving model with loss 0.174...\n"
     ]
    },
    {
     "name": "stderr",
     "output_type": "stream",
     "text": [
      "Epoch [24/30 ]: 100%|██████████| 43/43 [00:05<00:00,  7.87it/s, loss=0.39272, acc=0.82608]\n"
     ]
    },
    {
     "name": "stdout",
     "output_type": "stream",
     "text": [
      "Epoch [24/30]: Train loss: 0.3939 Acc: 82.61%  Valid loss: 0.1663 Acc: 94.24%\n",
      "Saving model with loss 0.166...\n"
     ]
    },
    {
     "name": "stderr",
     "output_type": "stream",
     "text": [
      "Epoch [25/30 ]: 100%|██████████| 43/43 [00:05<00:00,  7.88it/s, loss=0.38750, acc=0.82765]\n"
     ]
    },
    {
     "name": "stdout",
     "output_type": "stream",
     "text": [
      "Epoch [25/30]: Train loss: 0.3895 Acc: 82.77%  Valid loss: 0.1589 Acc: 94.47%\n",
      "Saving model with loss 0.159...\n"
     ]
    },
    {
     "name": "stderr",
     "output_type": "stream",
     "text": [
      "Epoch [26/30 ]: 100%|██████████| 43/43 [00:05<00:00,  7.90it/s, loss=0.38569, acc=0.82877]\n"
     ]
    },
    {
     "name": "stdout",
     "output_type": "stream",
     "text": [
      "Epoch [26/30]: Train loss: 0.3859 Acc: 82.88%  Valid loss: 0.1537 Acc: 94.68%\n",
      "Saving model with loss 0.154...\n"
     ]
    },
    {
     "name": "stderr",
     "output_type": "stream",
     "text": [
      "Epoch [27/30 ]: 100%|██████████| 43/43 [00:05<00:00,  7.92it/s, loss=0.38096, acc=0.83001]\n"
     ]
    },
    {
     "name": "stdout",
     "output_type": "stream",
     "text": [
      "Epoch [27/30]: Train loss: 0.3825 Acc: 83.00%  Valid loss: 0.1481 Acc: 94.87%\n",
      "Saving model with loss 0.148...\n"
     ]
    },
    {
     "name": "stderr",
     "output_type": "stream",
     "text": [
      "Epoch [28/30 ]: 100%|██████████| 43/43 [00:05<00:00,  7.92it/s, loss=0.37790, acc=0.83091]\n"
     ]
    },
    {
     "name": "stdout",
     "output_type": "stream",
     "text": [
      "Epoch [28/30]: Train loss: 0.3796 Acc: 83.09%  Valid loss: 0.1443 Acc: 95.00%\n",
      "Saving model with loss 0.144...\n"
     ]
    },
    {
     "name": "stderr",
     "output_type": "stream",
     "text": [
      "Epoch [29/30 ]: 100%|██████████| 43/43 [00:05<00:00,  7.93it/s, loss=0.37480, acc=0.83166]\n"
     ]
    },
    {
     "name": "stdout",
     "output_type": "stream",
     "text": [
      "Epoch [29/30]: Train loss: 0.3774 Acc: 83.17%  Valid loss: 0.1396 Acc: 95.19%\n",
      "Saving model with loss 0.140...\n"
     ]
    },
    {
     "name": "stderr",
     "output_type": "stream",
     "text": [
      "Epoch [30/30 ]: 100%|██████████| 43/43 [00:05<00:00,  7.94it/s, loss=0.37370, acc=0.83252]\n"
     ]
    },
    {
     "name": "stdout",
     "output_type": "stream",
     "text": [
      "Epoch [30/30]: Train loss: 0.3749 Acc: 83.25%  Valid loss: 0.1369 Acc: 95.28%\n",
      "Saving model with loss 0.137...\n"
     ]
    }
   ],
   "source": [
    "config = Namespace(\n",
    "    device='cuda',\n",
    "    n_epochs=30,\n",
    "    save_path='./models/gnn.ckpt',\n",
    "    lr=5e-4,\n",
    "    batch_size=6,\n",
    "    early_stop=100,\n",
    "    \n",
    "    emb_dim=256,\n",
    "    heads=8,\n",
    "    hidden_c=32\n",
    ")\n",
    "train_loader = DataLoader(tr_dataset, batch_size=config.batch_size, shuffle=True)\n",
    "valid_loader = DataLoader(val_dataset, batch_size=config.batch_size, shuffle=False)\n",
    "\n",
    "\n",
    "# model\n",
    "model = GAT(num_emb=len(total_node), emb_dim=config.emb_dim, heads=config.heads, hidden_c=config.hidden_c)\n",
    "loss_record = trainer(train_loader, valid_loader, model, config)"
   ]
  },
  {
   "cell_type": "code",
   "execution_count": 18,
   "metadata": {},
   "outputs": [
    {
     "data": {
      "image/png": "[encoded data removed]",
      "text/plain": [
       "<Figure size 640x480 with 1 Axes>"
      ]
     },
     "metadata": {},
     "output_type": "display_data"
    }
   ],
   "source": [
    "import matplotlib.pyplot as plt\n",
    "plt.plot(loss_record)\n",
    "plt.show()"
   ]
  },
  {
   "cell_type": "markdown",
   "metadata": {},
   "source": [
    "# submit"
   ]
  },
  {
   "cell_type": "code",
   "execution_count": 19,
   "metadata": {},
   "outputs": [],
   "source": [
    "gc.collect()\n",
    "torch.cuda.empty_cache()\n",
    "model.eval()\n",
    "device = config.device\n",
    "loss_record = []\n",
    "test_accs = []\n",
    "ep_right_count = 0\n",
    "tt_count = 0\n",
    "data = te_dataset[0]\n",
    "data = data.to(device)\n",
    "label = data.y.to(device)\n",
    "with torch.no_grad():\n",
    "    pred = model(data)\n",
    "    mask = data.mask\n",
    "    tt_count += label[mask].size(0)\n",
    "    ep_right_count += torch.sum(pred[mask].argmax(dim=1) == label[mask]).cpu().detach().item()"
   ]
  },
  {
   "cell_type": "code",
   "execution_count": 23,
   "metadata": {},
   "outputs": [
    {
     "data": {
      "text/plain": [
       "0    8200\n",
       "1    1800\n",
       "Name: target, dtype: int64"
      ]
     },
     "execution_count": 23,
     "metadata": {},
     "output_type": "execute_result"
    }
   ],
   "source": [
    "res = pd.DataFrame({\n",
    "'id':  data.x_info,\n",
    "'target': pred.argmax(dim=1).cpu().detach().numpy()\n",
    "})\n",
    "submit_df = pd.read_csv('./data/sample_submit.csv')\n",
    "sub = submit_df[['id']].merge(res, how='left', on='id')\n",
    "sub['target'].isna().value_counts()\n",
    "sub['target'].value_counts()"
   ]
  },
  {
   "cell_type": "code",
   "execution_count": 24,
   "metadata": {},
   "outputs": [],
   "source": [
    "sub.to_csv('./data/sub_0919.csv', index=False)"
   ]
  },
  {
   "cell_type": "code",
   "execution_count": null,
   "metadata": {},
   "outputs": [],
   "source": []
  }
 ],
 "metadata": {
  "kernelspec": {
   "display_name": "sccRL",
   "language": "python",
   "name": "python3"
  },
  "language_info": {
   "codemirror_mode": {
    "name": "ipython",
    "version": 3
   },
   "file_extension": ".py",
   "mimetype": "text/x-python",
   "name": "python",
   "nbconvert_exporter": "python",
   "pygments_lexer": "ipython3",
   "version": "3.10.9"
  },
  "orig_nbformat": 4
 },
 "nbformat": 4,
 "nbformat_minor": 2
}
